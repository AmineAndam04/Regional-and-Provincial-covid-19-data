{
 "cells": [
  {
   "cell_type": "code",
   "execution_count": 1,
   "metadata": {},
   "outputs": [],
   "source": [
    "import requests \n",
    "from bs4 import BeautifulSoup\n",
    "import pandas as pd\n",
    "import json\n",
    "import datetime"
   ]
  },
  {
   "cell_type": "code",
   "execution_count": 2,
   "metadata": {},
   "outputs": [],
   "source": [
    "link='https://eco.olyams.com/covidma'\n",
    "request_data = requests.get(link)\n",
    "soup = BeautifulSoup(request_data.text,features=\"lxml\")\n",
    "#data_all=get_data(soup)"
   ]
  },
  {
   "cell_type": "code",
   "execution_count": 3,
   "metadata": {},
   "outputs": [],
   "source": [
    "table= json.loads(soup.text)"
   ]
  },
  {
   "cell_type": "code",
   "execution_count": 5,
   "metadata": {},
   "outputs": [
    {
     "data": {
      "text/plain": [
       "['labels', 'confirmed', 'healing', 'depistages', 'deaths']"
      ]
     },
     "execution_count": 5,
     "metadata": {},
     "output_type": "execute_result"
    }
   ],
   "source": [
    "row_data=table['data']\n",
    "column=[]\n",
    "for col in row_data.keys():\n",
    "    column.append(col)\n",
    "column"
   ]
  },
  {
   "cell_type": "code",
   "execution_count": 6,
   "metadata": {},
   "outputs": [],
   "source": [
    "date=pd.to_datetime(row_data[column[0]])\n",
    "NewCase=pd.to_numeric(row_data[column[1]])\n",
    "Newrecovr=pd.to_numeric(row_data[column[2]])\n",
    "Newtest=pd.to_numeric(row_data[column[3]])\n",
    "Newdeath=pd.to_numeric(row_data[column[4]])"
   ]
  },
  {
   "cell_type": "code",
   "execution_count": 7,
   "metadata": {},
   "outputs": [],
   "source": [
    "data=pd.DataFrame(index=date,columns=[\"NewCase\",\"Newrecov\",\"Newtest\",\"Newdeath\"],dtype=float)"
   ]
  },
  {
   "cell_type": "code",
   "execution_count": 8,
   "metadata": {},
   "outputs": [],
   "source": [
    "data['NewCase']=NewCase\n",
    "data[\"Newrecov\"]=Newrecovr\n",
    "data[\"Newtest\"]=Newtest\n",
    "data[\"Newdeath\"]=Newdeath"
   ]
  },
  {
   "cell_type": "code",
   "execution_count": 9,
   "metadata": {},
   "outputs": [
    {
     "data": {
      "text/html": [
       "<div>\n",
       "<style scoped>\n",
       "    .dataframe tbody tr th:only-of-type {\n",
       "        vertical-align: middle;\n",
       "    }\n",
       "\n",
       "    .dataframe tbody tr th {\n",
       "        vertical-align: top;\n",
       "    }\n",
       "\n",
       "    .dataframe thead th {\n",
       "        text-align: right;\n",
       "    }\n",
       "</style>\n",
       "<table border=\"1\" class=\"dataframe\">\n",
       "  <thead>\n",
       "    <tr style=\"text-align: right;\">\n",
       "      <th></th>\n",
       "      <th>NewCase</th>\n",
       "      <th>Newrecov</th>\n",
       "      <th>Newtest</th>\n",
       "      <th>Newdeath</th>\n",
       "    </tr>\n",
       "  </thead>\n",
       "  <tbody>\n",
       "    <tr>\n",
       "      <th>2021-09-25</th>\n",
       "      <td>1444</td>\n",
       "      <td>1818</td>\n",
       "      <td>18755</td>\n",
       "      <td>30</td>\n",
       "    </tr>\n",
       "    <tr>\n",
       "      <th>2021-09-26</th>\n",
       "      <td>734</td>\n",
       "      <td>1720</td>\n",
       "      <td>14601</td>\n",
       "      <td>35</td>\n",
       "    </tr>\n",
       "    <tr>\n",
       "      <th>2021-09-27</th>\n",
       "      <td>394</td>\n",
       "      <td>2248</td>\n",
       "      <td>7330</td>\n",
       "      <td>32</td>\n",
       "    </tr>\n",
       "    <tr>\n",
       "      <th>2021-09-28</th>\n",
       "      <td>1192</td>\n",
       "      <td>1558</td>\n",
       "      <td>19208</td>\n",
       "      <td>26</td>\n",
       "    </tr>\n",
       "    <tr>\n",
       "      <th>2021-09-29</th>\n",
       "      <td>1082</td>\n",
       "      <td>1774</td>\n",
       "      <td>18079</td>\n",
       "      <td>23</td>\n",
       "    </tr>\n",
       "  </tbody>\n",
       "</table>\n",
       "</div>"
      ],
      "text/plain": [
       "            NewCase  Newrecov  Newtest  Newdeath\n",
       "2021-09-25     1444      1818    18755        30\n",
       "2021-09-26      734      1720    14601        35\n",
       "2021-09-27      394      2248     7330        32\n",
       "2021-09-28     1192      1558    19208        26\n",
       "2021-09-29     1082      1774    18079        23"
      ]
     },
     "execution_count": 9,
     "metadata": {},
     "output_type": "execute_result"
    }
   ],
   "source": [
    "data.tail()"
   ]
  },
  {
   "cell_type": "code",
   "execution_count": 10,
   "metadata": {},
   "outputs": [],
   "source": [
    "data.to_excel(r'C:/Users/pc/Downloads/National level.xlsx')"
   ]
  },
  {
   "cell_type": "code",
   "execution_count": null,
   "metadata": {},
   "outputs": [],
   "source": []
  }
 ],
 "metadata": {
  "kernelspec": {
   "display_name": "Python 3",
   "language": "python",
   "name": "python3"
  },
  "language_info": {
   "codemirror_mode": {
    "name": "ipython",
    "version": 3
   },
   "file_extension": ".py",
   "mimetype": "text/x-python",
   "name": "python",
   "nbconvert_exporter": "python",
   "pygments_lexer": "ipython3",
   "version": "3.7.3"
  }
 },
 "nbformat": 4,
 "nbformat_minor": 2
}
